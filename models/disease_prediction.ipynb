{
  "cells": [
    {
      "cell_type": "code",
      "execution_count": null,
      "metadata": {
        "id": "4XSRC14GH2IP"
      },
      "outputs": [],
      "source": [
        "import pandas as pd\n",
        "from sklearn.preprocessing import LabelEncoder\n",
        "import tensorflow as tf\n"
      ]
    },
    {
      "cell_type": "code",
      "execution_count": null,
      "metadata": {
        "id": "yMotlJRpaWQz"
      },
      "outputs": [],
      "source": [
        "import matplotlib.pyplot as plt\n",
        "\n",
        "\n",
        "def plot_loss_curves(history):\n",
        "  \"\"\"\n",
        "  Returns separate loss curves for training and validation metrics.\n",
        "\n",
        "  Args:\n",
        "  \"\"\"\n",
        "  loss = history.history['loss']\n",
        "  val_loss = history.history['val_loss']\n",
        "\n",
        "  accuracy = history.history['accuracy']\n",
        "  val_accuracy = history.history['val_accuracy']\n",
        "\n",
        "  epochs = range(len(history.history['loss']))\n",
        "\n",
        "  # Plot loss\n",
        "  plt.plot(epochs, loss, label='training_loss')\n",
        "  plt.plot(epochs, val_loss, label='val_loss')\n",
        "  plt.title('Loss')\n",
        "  plt.xlabel('Epochs')\n",
        "  plt.legend()\n",
        "\n",
        "  # Plot accuracy\n",
        "  plt.figure()\n",
        "  plt.plot(epochs, accuracy, label='training_accuracy')\n",
        "  plt.plot(epochs, val_accuracy, label='val_accuracy')\n",
        "  plt.title('Accuracy')\n",
        "  plt.xlabel('Epochs')\n",
        "  plt.legend();"
      ]
    },
    {
      "cell_type": "code",
      "execution_count": null,
      "metadata": {
        "id": "QSyXso1SL0UN"
      },
      "outputs": [],
      "source": [
        "dataset = pd.read_csv(\n",
        "    \"training.csv\"\n",
        "    )"
      ]
    },
    {
      "cell_type": "code",
      "execution_count": null,
      "metadata": {
        "id": "HQTLU45fMYoi"
      },
      "outputs": [],
      "source": [
        "dataset.head()"
      ]
    },
    {
      "cell_type": "code",
      "execution_count": null,
      "metadata": {
        "id": "FB7_7c3FOAh2"
      },
      "outputs": [],
      "source": [
        "classes = dataset.prognosis.unique()\n",
        "classes"
      ]
    },
    {
      "cell_type": "code",
      "execution_count": null,
      "metadata": {
        "id": "92BAg3-pMag0"
      },
      "outputs": [],
      "source": [
        "#  number of classes\n",
        "dataset[\"prognosis\"].unique().shape"
      ]
    },
    {
      "cell_type": "code",
      "execution_count": null,
      "metadata": {
        "id": "K2fIjRSSM9TG"
      },
      "outputs": [],
      "source": [
        "#  number of samples for each class\n",
        "dataset[\"prognosis\"].value_counts()"
      ]
    },
    {
      "cell_type": "code",
      "execution_count": null,
      "metadata": {
        "id": "tYSZdhOcOD7k"
      },
      "outputs": [],
      "source": [
        "target_classes = ['Fungal infection', 'Allergy', 'GERD', 'Chronic cholestasis',\n",
        "       'Drug Reaction', 'Peptic ulcer diseae', 'AIDS', 'Diabetes ',\n",
        "       'Gastroenteritis', 'Bronchial Asthma', 'Hypertension ', 'Migraine',\n",
        "       'Cervical spondylosis', 'Paralysis (brain hemorrhage)', 'Jaundice',\n",
        "       'Malaria', 'Chicken pox', 'Dengue', 'Typhoid', 'hepatitis A',\n",
        "       'Hepatitis B', 'Hepatitis C', 'Hepatitis D', 'Hepatitis E',\n",
        "       'Alcoholic hepatitis', 'Tuberculosis', 'Common Cold', 'Pneumonia',\n",
        "       'Dimorphic hemmorhoids(piles)', 'Heart attack', 'Varicose veins',\n",
        "       'Hypothyroidism', 'Hyperthyroidism', 'Hypoglycemia',\n",
        "       'Osteoarthristis', 'Arthritis',\n",
        "       '(vertigo) Paroymsal  Positional Vertigo', 'Acne',\n",
        "       'Urinary tract infection', 'Psoriasis', 'Impetigo']\n",
        "#  ['Fungal infection', 'Common Cold', 'Allergy','Typhoid','Malaria','Pneumonia','Tuberculosis','AIDS','Arthritis']"
      ]
    },
    {
      "cell_type": "code",
      "execution_count": null,
      "metadata": {
        "id": "xVCqma5vRt_Q"
      },
      "outputs": [],
      "source": [
        "filtered_data = dataset[dataset[\"prognosis\"].isin(target_classes)]\n",
        "filtered_data.head()"
      ]
    },
    {
      "cell_type": "code",
      "execution_count": null,
      "metadata": {
        "id": "3yuQu5oiR8LK"
      },
      "outputs": [],
      "source": [
        "label_encoder = LabelEncoder()\n",
        "filtered_data['y_'] = encoded_labels = label_encoder.fit_transform(filtered_data['prognosis'])"
      ]
    },
    {
      "cell_type": "code",
      "execution_count": null,
      "metadata": {
        "id": "7HX8aMLYUYji"
      },
      "outputs": [],
      "source": [
        "filtered_data.head()"
      ]
    },
    {
      "cell_type": "code",
      "execution_count": null,
      "metadata": {
        "id": "qj9dJ7mlT3OF"
      },
      "outputs": [],
      "source": [
        "# Mapping of encoded labels to original labels\n",
        "class_mappings = {encoded_label: original_label for encoded_label, original_label in zip(encoded_labels, filtered_data['prognosis'])}\n",
        "\n",
        "# Now you can use label_mapping to see which letter is represented by which label\n",
        "class_mappings"
      ]
    },
    {
      "cell_type": "code",
      "execution_count": null,
      "metadata": {
        "id": "N_XYgM5-R-A8"
      },
      "outputs": [],
      "source": [
        "filtered_data.prognosis.value_counts()"
      ]
    },
    {
      "cell_type": "code",
      "execution_count": null,
      "metadata": {
        "id": "4Gz2f8dKgFbl"
      },
      "outputs": [],
      "source": [
        "from sklearn.model_selection import train_test_split\n",
        "import random\n",
        "\n",
        "train_set = pd.DataFrame()\n",
        "val_set = pd.DataFrame()\n",
        "test_set = pd.DataFrame()\n",
        "\n",
        "for class_name in target_classes:\n",
        "  print(class_name)\n",
        "  target_set = filtered_data[filtered_data['prognosis'] == class_name]\n",
        "  target_set_train, target_set_temp = train_test_split(target_set, train_size=0.7, random_state=42, shuffle=True)\n",
        "  target_set_val, target_set_test = train_test_split(target_set_temp, train_size=0.3, random_state=42, shuffle=True)\n",
        "\n",
        "\n",
        "\n",
        "  train_set = pd.concat([train_set, target_set_train])\n",
        "  test_set = pd.concat([test_set, target_set_test])\n",
        "  val_set = pd.concat([val_set, target_set_val])\n",
        "\n",
        "\n",
        "# len(target_set)"
      ]
    },
    {
      "cell_type": "code",
      "execution_count": null,
      "metadata": {
        "id": "yduEPuyRnivu"
      },
      "outputs": [],
      "source": [
        "train_set.prognosis.value_counts()"
      ]
    },
    {
      "cell_type": "code",
      "execution_count": null,
      "metadata": {
        "id": "yHWetnh_vBmj"
      },
      "outputs": [],
      "source": [
        "len(train_set),len(val_set)"
      ]
    },
    {
      "cell_type": "code",
      "execution_count": null,
      "metadata": {
        "id": "GBgrN4oTv5wz"
      },
      "outputs": [],
      "source": [
        "\n",
        "# Shuffle the training data\n",
        "train_data = train_set.sample(frac=1, random_state=42).reset_index(drop=True)\n",
        "\n",
        "# Shuffle the validation data\n",
        "val_data = test_set.sample(frac=1, random_state=42).reset_index(drop=True)\n",
        "\n",
        "# Shuffle the test data\n",
        "test_data = test_set.sample(frac=1, random_state=42).reset_index(drop=True)\n"
      ]
    },
    {
      "cell_type": "code",
      "execution_count": null,
      "metadata": {
        "id": "BWDefQqfxeCv"
      },
      "outputs": [],
      "source": [
        "train_data.prognosis.head()"
      ]
    },
    {
      "cell_type": "code",
      "execution_count": null,
      "metadata": {
        "id": "yBP8PIidxfv-"
      },
      "outputs": [],
      "source": [
        "X_train = train_data.copy()\n",
        "X_train = X_train.drop([\"prognosis\"], axis = 1)\n",
        "y_train = tf.keras.utils.to_categorical(X_train[\"y_\"], num_classes=len(target_classes))\n",
        "X_train = X_train.drop([\"y_\"], axis = 1)"
      ]
    },
    {
      "cell_type": "code",
      "execution_count": null,
      "metadata": {
        "id": "eyz5ZOKFx3d-"
      },
      "outputs": [],
      "source": [
        "X_test = test_data.copy()\n",
        "X_test = X_test.drop([\"prognosis\"], axis = 1)\n",
        "y_test = tf.keras.utils.to_categorical(X_test[\"y_\"], num_classes=len(target_classes))\n",
        "X_test = X_test.drop([\"y_\"], axis = 1)"
      ]
    },
    {
      "cell_type": "code",
      "execution_count": null,
      "metadata": {
        "id": "VSH4y3qsx4lW"
      },
      "outputs": [],
      "source": [
        "X_val = val_data.copy()\n",
        "X_val = X_val.drop([\"prognosis\"], axis = 1)\n",
        "y_val = tf.keras.utils.to_categorical(X_val[\"y_\"], num_classes=len(target_classes))\n",
        "X_val = X_val.drop([\"y_\"], axis = 1)"
      ]
    },
    {
      "cell_type": "code",
      "execution_count": null,
      "metadata": {
        "id": "DtrVOg5GzHt9"
      },
      "outputs": [],
      "source": [
        "print(f\"\"\"\n",
        "X features\n",
        "train samples{len(X_train)},\n",
        "test sample {len(X_test)},\n",
        "val samples:{len(X_val)}\"\"\")"
      ]
    },
    {
      "cell_type": "code",
      "execution_count": null,
      "metadata": {
        "id": "AxDDr2nozOPa"
      },
      "outputs": [],
      "source": [
        "print(f\"\"\"\n",
        "Y features\n",
        "train samples{len(y_train)},\n",
        "test sample {len(y_test)},\n",
        "val samples:{len(y_val)}\"\"\")"
      ]
    },
    {
      "cell_type": "code",
      "execution_count": null,
      "metadata": {
        "id": "x47MULVGXzsf"
      },
      "outputs": [],
      "source": [
        "y_train"
      ]
    },
    {
      "cell_type": "code",
      "execution_count": null,
      "metadata": {
        "id": "y2suH2LaV9UD"
      },
      "outputs": [],
      "source": [
        "X_train_tensor = tf.constant([[cell for cell in X_train.iloc[i]] for i in range(len(X_train))])\n",
        "X_test_tensor = tf.constant([[cell for cell in X_test.iloc[i]] for i in range(len(X_test))])\n",
        "val_data_tensor = tf.constant([[cell for cell in X_val.iloc[i]] for i in range(len(X_val))])"
      ]
    },
    {
      "cell_type": "code",
      "execution_count": null,
      "metadata": {
        "id": "Z_SrutH0ak2Q"
      },
      "outputs": [],
      "source": [
        "X_train_tensor"
      ]
    },
    {
      "cell_type": "code",
      "execution_count": null,
      "metadata": {
        "id": "C0f5demiYSNN"
      },
      "outputs": [],
      "source": [
        "INPUT_SHAPE = X_train_tensor.shape[1]\n",
        "\n",
        "INPUT_SHAPE"
      ]
    },
    {
      "cell_type": "code",
      "execution_count": null,
      "metadata": {
        "id": "T-g8x3ARo-mP"
      },
      "outputs": [],
      "source": [
        "num_classes =  len(target_classes)\n",
        "num_classes"
      ]
    },
    {
      "cell_type": "code",
      "execution_count": null,
      "metadata": {
        "id": "OmrK_DNX0DSt"
      },
      "outputs": [],
      "source": [
        "num_classes =  len(target_classes) # Change this to the number of classes you have\n",
        "\n",
        "model_0 = tf.keras.Sequential([\n",
        "    tf.keras.layers.Input(shape=INPUT_SHAPE),\n",
        "    tf.keras.layers.Dense(128, activation=\"relu\"),\n",
        "    tf.keras.layers.Dense(256, activation=\"relu\"),\n",
        "    tf.keras.layers.Dense(64, activation=\"relu\"),\n",
        "    tf.keras.layers.Dense(32, activation=\"relu\"),\n",
        "    tf.keras.layers.Dense(16, activation=\"relu\"),\n",
        "    tf.keras.layers.Dense(num_classes, activation=\"softmax\")  # Use softmax for multi-class classification\n",
        "])\n",
        "\n",
        "model_0.compile(loss=\"categorical_crossentropy\",  # Use categorical cross-entropy for multi-class classification\n",
        "                optimizer=tf.keras.optimizers.Adam(),\n",
        "                metrics=[\"accuracy\"])"
      ]
    },
    {
      "cell_type": "code",
      "execution_count": null,
      "metadata": {
        "id": "H7D921BNYmb2"
      },
      "outputs": [],
      "source": [
        "model_0.summary()"
      ]
    },
    {
      "cell_type": "code",
      "execution_count": null,
      "metadata": {
        "id": "VtpoB2U1c5ca"
      },
      "outputs": [],
      "source": [
        "from tensorflow.keras.callbacks import EarlyStopping\n",
        "\n",
        "# Define the EarlyStopping callback\n",
        "early_stopping = EarlyStopping(monitor='val_loss',  # Monitor validation loss\n",
        "                               patience=5,         # Number of epochs with no improvement to wait\n",
        "                               restore_best_weights=True)"
      ]
    },
    {
      "cell_type": "code",
      "execution_count": null,
      "metadata": {
        "id": "ZVBjX5Diqkpj"
      },
      "outputs": [],
      "source": [
        "epochs= 5\n",
        "steps_per_epoch = len(X_train_tensor) // 32\n",
        "\n",
        "\n",
        "# X_train_tensor.repeat(epochs)\n"
      ]
    },
    {
      "cell_type": "code",
      "execution_count": null,
      "metadata": {
        "colab": {
          "background_save": true
        },
        "id": "mcurxmsQYo6P",
        "outputId": "1eb5dfe0-0ec1-4a6f-8426-f72dc473c228"
      },
      "outputs": [
        {
          "name": "stdout",
          "output_type": "stream",
          "text": [
            "Epoch 1/2\n",
            "104/108 [===========================>..] - ETA: 0s - loss: 2.0664 - accuracy: 0.4820"
          ]
        },
        {
          "name": "stderr",
          "output_type": "stream",
          "text": [
            "WARNING:tensorflow:Your input ran out of data; interrupting training. Make sure that your dataset or generator can generate at least `steps_per_epoch * epochs` batches (in this case, 213 batches). You may need to use the repeat() function when building your dataset.\n"
          ]
        },
        {
          "name": "stdout",
          "output_type": "stream",
          "text": [
            "108/108 [==============================] - 8s 15ms/step - loss: 2.0074 - accuracy: 0.4956 - val_loss: 0.2260 - val_accuracy: 0.9418\n",
            "Epoch 2/2\n",
            "108/108 [==============================] - 1s 6ms/step - loss: 0.0419 - accuracy: 0.9968\n"
          ]
        }
      ],
      "source": [
        "history_0 = model_0.fit(X_train_tensor, y_train,\n",
        "                        epochs=2,\n",
        "                        # steps_per_epoch=steps_per_epoch,\n",
        "                        validation_data=(val_data_tensor, y_val),\n",
        "                        validation_steps=len(val_data_tensor) // 5)"
      ]
    },
    {
      "cell_type": "code",
      "execution_count": null,
      "metadata": {
        "id": "Fq5VDCiVY7gA"
      },
      "outputs": [],
      "source": [
        "# plot_loss_curves(history_0)"
      ]
    },
    {
      "cell_type": "code",
      "execution_count": null,
      "metadata": {
        "colab": {
          "background_save": true
        },
        "id": "ApP_dTYIaacv",
        "outputId": "c78aaf17-0f11-4c1f-dccc-6734e76be48f"
      },
      "outputs": [
        {
          "name": "stdout",
          "output_type": "stream",
          "text": [
            "34/34 [==============================] - 0s 4ms/step - loss: 0.0062 - accuracy: 1.0000\n"
          ]
        },
        {
          "data": {
            "text/plain": [
              "[0.006227394100278616, 1.0]"
            ]
          },
          "execution_count": 36,
          "metadata": {},
          "output_type": "execute_result"
        }
      ],
      "source": [
        "model_0.evaluate(X_test_tensor,y_test)"
      ]
    },
    {
      "cell_type": "code",
      "execution_count": null,
      "metadata": {
        "colab": {
          "background_save": true
        },
        "id": "M9PJtzPdccIj"
      },
      "outputs": [],
      "source": [
        "data_row = \"0\t0\t0\t0\t0\t1\t0\t1\t0\t1\t1\t0\t1\t0\t0\t0\t0\t0\t1\t0\t1\t0\t0\t0\t1\t0\t0\t0\t0\t1\t0\t1\t0\t0\t0\t0\t1\t0\t0\t0\t0\t0\t0\t0\t0\t0\t0\t1\t1\t0\t1\t0\t1\t1\t0\t0\t1\t0\t0\t0\t0\t0\t0\t0\t0\t0\t0\t0\t0\t0\t0\t0\t0\t0\t0\t0\t0\t0\t0\t0\t0\t0\t0\t0\t0\t0\t0\t0\t1\t0\t0\t0\t0\t0\t0\t0\t0\t1\t0\t0\t0\t0\t0\t0\t0\t0\t0\t0\t0\t0\t0\t0\t0\t0\t0\t0\t0\t0\t0\t0\t0\t0\t0\t0\t0\t0\t0\t0\t0\t0\t0\t0\""
      ]
    },
    {
      "cell_type": "code",
      "execution_count": null,
      "metadata": {
        "colab": {
          "background_save": true
        },
        "id": "buxQ743aeDLs"
      },
      "outputs": [],
      "source": [
        "# Convert the data row to a list of integers\n",
        "data_row_list = [int(x) for x in data_row.split('\\t')]\n",
        "\n",
        "# Convert the list to a tensor\n",
        "data_tensor = tf.constant(data_row_list, dtype=tf.int32)\n",
        "\n",
        "# If you need to reshape the tensor to match your model's input shape, you can do so like this:\n",
        "desired_shape = (1, 132)  # Adjust the shape to match your model's input shape\n",
        "data_tensor = tf.reshape(data_tensor, desired_shape)"
      ]
    },
    {
      "cell_type": "code",
      "execution_count": null,
      "metadata": {
        "colab": {
          "background_save": true
        },
        "id": "4bMjL231eFXG",
        "outputId": "71bee4f6-927f-40db-f123-feb5701fb506"
      },
      "outputs": [
        {
          "data": {
            "text/plain": [
              "<tf.Tensor: shape=(1, 132), dtype=int32, numpy=\n",
              "array([[0, 0, 0, 0, 0, 1, 0, 1, 0, 1, 1, 0, 1, 0, 0, 0, 0, 0, 1, 0, 1, 0,\n",
              "        0, 0, 1, 0, 0, 0, 0, 1, 0, 1, 0, 0, 0, 0, 1, 0, 0, 0, 0, 0, 0, 0,\n",
              "        0, 0, 0, 1, 1, 0, 1, 0, 1, 1, 0, 0, 1, 0, 0, 0, 0, 0, 0, 0, 0, 0,\n",
              "        0, 0, 0, 0, 0, 0, 0, 0, 0, 0, 0, 0, 0, 0, 0, 0, 0, 0, 0, 0, 0, 0,\n",
              "        1, 0, 0, 0, 0, 0, 0, 0, 0, 1, 0, 0, 0, 0, 0, 0, 0, 0, 0, 0, 0, 0,\n",
              "        0, 0, 0, 0, 0, 0, 0, 0, 0, 0, 0, 0, 0, 0, 0, 0, 0, 0, 0, 0, 0, 0]],\n",
              "      dtype=int32)>"
            ]
          },
          "execution_count": 39,
          "metadata": {},
          "output_type": "execute_result"
        }
      ],
      "source": [
        "data_tensor"
      ]
    },
    {
      "cell_type": "code",
      "execution_count": null,
      "metadata": {
        "colab": {
          "background_save": true
        },
        "id": "7nWZaG_feG4Q",
        "outputId": "50ddc715-2196-4deb-f093-d6ca81fcfc8b"
      },
      "outputs": [
        {
          "name": "stdout",
          "output_type": "stream",
          "text": [
            "1/1 [==============================] - 0s 159ms/step\n"
          ]
        }
      ],
      "source": [
        "pred = model_0.predict(data_tensor)"
      ]
    },
    {
      "cell_type": "code",
      "execution_count": null,
      "metadata": {
        "colab": {
          "background_save": true
        },
        "id": "Yu0eLzKMlffi",
        "outputId": "08fd307a-c06a-4e41-9744-c365a51c1d80"
      },
      "outputs": [
        {
          "name": "stdout",
          "output_type": "stream",
          "text": [
            "Common Cold: 57.37%\n",
            "Chicken pox: 41.52%\n",
            "(vertigo) Paroymsal  Positional Vertigo: 0.35%\n",
            "Hepatitis E: 0.29%\n"
          ]
        }
      ],
      "source": [
        "# Multiply by 100 to convert to percentages\n",
        "percentages = [x * 100 for x in pred[0]]\n",
        "\n",
        "# Create a list of tuples containing index and percentage\n",
        "percentage_tuples = list(enumerate(percentages))\n",
        "\n",
        "# Sort the list of tuples in descending order based on the percentage\n",
        "percentage_tuples.sort(key=lambda x: x[1], reverse=True)\n",
        "\n",
        "# Get the top 4 percentages\n",
        "top_4_percentages = percentage_tuples[:4]\n",
        "\n",
        "# Print the top 4 diseases and their corresponding percentages\n",
        "for index, percentage in top_4_percentages:\n",
        "    disease = class_mappings[index]\n",
        "    print(f\"{disease}: {percentage:.2f}%\")"
      ]
    },
    {
      "cell_type": "code",
      "execution_count": null,
      "metadata": {
        "colab": {
          "background_save": true
        },
        "id": "dihUJqo58c8x",
        "outputId": "2e97e851-b917-4ad5-953d-a281dd8913a8"
      },
      "outputs": [
        {
          "data": {
            "image/png": "[encoded data removed]",
            "text/plain": [
              "<Figure size 640x480 with 1 Axes>"
            ]
          },
          "metadata": {},
          "output_type": "display_data"
        },
        {
          "data": {
            "image/png": "[encoded data removed]",
            "text/plain": [
              "<Figure size 640x480 with 1 Axes>"
            ]
          },
          "metadata": {},
          "output_type": "display_data"
        }
      ],
      "source": [
        "# Plot training & validation accuracy values\n",
        "plt.plot(history_0.history['accuracy'])\n",
        "plt.plot(history_0.history['val_accuracy'])\n",
        "plt.title('Model accuracy')\n",
        "plt.xlabel('Epoch')\n",
        "plt.ylabel('Accuracy')\n",
        "plt.legend(['Train', 'Validation'], loc='upper left')\n",
        "plt.show()\n",
        "\n",
        "# Plot training & validation loss values\n",
        "plt.plot(history_0.history['loss'])\n",
        "plt.plot(history_0.history['val_loss'])\n",
        "plt.title('Model loss')\n",
        "plt.xlabel('Epoch')\n",
        "plt.ylabel('Loss')\n",
        "plt.legend(['Train', 'Validation'], loc='upper left')\n",
        "plt.show()"
      ]
    },
    {
      "cell_type": "code",
      "execution_count": null,
      "metadata": {
        "id": "otv7Gu6U8dnT"
      },
      "outputs": [],
      "source": [
        "from google.colab import drive\n",
        "drive.mount('/content/drive')"
      ]
    },
    {
      "cell_type": "code",
      "execution_count": null,
      "metadata": {
        "colab": {
          "background_save": true
        },
        "id": "8ptoxCQWfDAU"
      },
      "outputs": [],
      "source": [
        "model_0.save(\"/content/drive/MyDrive/ML_models/health_disease\")"
      ]
    },
    {
      "cell_type": "code",
      "execution_count": null,
      "metadata": {
        "id": "GS22uWu4FqZo"
      },
      "outputs": [],
      "source": [
        "# Convert the model to TensorFlow Lite format\n",
        "converter = tf.lite.TFLiteConverter.from_saved_model(\"/content/drive/MyDrive/ML_models/health_disease\")\n",
        "tflite_model = converter.convert()\n",
        "\n",
        "# Save the TensorFlow Lite model to a file\n",
        "with open(\"/content/drive/MyDrive/ML_models/health_disease/model.tflite\", \"wb\") as f:\n",
        "    f.write(tflite_model)"
      ]
    }
  ],
  "metadata": {
    "accelerator": "GPU",
    "colab": {
      "provenance": []
    },
    "kernelspec": {
      "display_name": "Python 3",
      "name": "python3"
    },
    "language_info": {
      "name": "python"
    }
  },
  "nbformat": 4,
  "nbformat_minor": 0
}